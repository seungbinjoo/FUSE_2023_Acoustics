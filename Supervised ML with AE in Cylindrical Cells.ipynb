{
 "cells": [
  {
   "cell_type": "markdown",
   "id": "2b40838d",
   "metadata": {},
   "source": [
    "# Supervised Machine Learning with Acoustic Emisson in Cylindrical Cells"
   ]
  },
  {
   "cell_type": "markdown",
   "id": "3fb53e66",
   "metadata": {},
   "source": [
    "## 1. Classification Using Supervised Machine Learning with Pristine and Aged Cell Data"
   ]
  },
  {
   "cell_type": "markdown",
   "id": "8156c825",
   "metadata": {},
   "source": [
    "Acoustic hits dataset of pristine and aged cell cycling will be fed into a supervised machine learning classifier (e.g. logistic regression, support vector machine, deep neural network) to classify aged and pristine cell signals. Signals that are 100% noise waveforms have been manually removed from the dataset."
   ]
  },
  {
   "cell_type": "markdown",
   "id": "d8212291",
   "metadata": {},
   "source": [
    "### 1.1. Classification of Aged vs. Pristine Cell Signals using Neural Networks"
   ]
  },
  {
   "cell_type": "code",
   "execution_count": 1,
   "id": "4c7c97c0",
   "metadata": {},
   "outputs": [],
   "source": [
    "import pandas as pd\n",
    "import numpy as np\n",
    "data = pd.read_csv('/Users/seungbinjoo/Desktop/UCL FUSE Internship/Work/5 Experiments/Cylindrical Cell AE Matrix Experiment/Machine Learning Files/NOISE FILTERED Pristine and Aged P42A Machine Learning Data.csv', delimiter =',')"
   ]
  },
  {
   "cell_type": "code",
   "execution_count": 2,
   "id": "2298445f",
   "metadata": {},
   "outputs": [
    {
     "data": {
      "text/html": [
       "<div>\n",
       "<style scoped>\n",
       "    .dataframe tbody tr th:only-of-type {\n",
       "        vertical-align: middle;\n",
       "    }\n",
       "\n",
       "    .dataframe tbody tr th {\n",
       "        vertical-align: top;\n",
       "    }\n",
       "\n",
       "    .dataframe thead th {\n",
       "        text-align: right;\n",
       "    }\n",
       "</style>\n",
       "<table border=\"1\" class=\"dataframe\">\n",
       "  <thead>\n",
       "    <tr style=\"text-align: right;\">\n",
       "      <th></th>\n",
       "      <th>Waveform Number</th>\n",
       "      <th>C-Rate</th>\n",
       "      <th>Transducer Position</th>\n",
       "      <th>Rise Time</th>\n",
       "      <th>Counts to Peak</th>\n",
       "      <th>Energy</th>\n",
       "      <th>Duration</th>\n",
       "      <th>Amplitude</th>\n",
       "      <th>Average Frequency</th>\n",
       "      <th>RMS</th>\n",
       "      <th>ASL</th>\n",
       "      <th>PCNTS</th>\n",
       "      <th>Threshold</th>\n",
       "      <th>Reverberation Frequency</th>\n",
       "      <th>Initiation Frequency</th>\n",
       "      <th>Signal Strength</th>\n",
       "      <th>Absolute Energy</th>\n",
       "      <th>Classification</th>\n",
       "    </tr>\n",
       "  </thead>\n",
       "  <tbody>\n",
       "    <tr>\n",
       "      <th>0</th>\n",
       "      <td>1</td>\n",
       "      <td>0.33</td>\n",
       "      <td>18</td>\n",
       "      <td>12</td>\n",
       "      <td>7</td>\n",
       "      <td>0</td>\n",
       "      <td>73</td>\n",
       "      <td>37</td>\n",
       "      <td>95</td>\n",
       "      <td>0.0004</td>\n",
       "      <td>16</td>\n",
       "      <td>3</td>\n",
       "      <td>29</td>\n",
       "      <td>66</td>\n",
       "      <td>250</td>\n",
       "      <td>1060000.0</td>\n",
       "      <td>3560.0000</td>\n",
       "      <td>Pristine</td>\n",
       "    </tr>\n",
       "    <tr>\n",
       "      <th>1</th>\n",
       "      <td>2</td>\n",
       "      <td>0.33</td>\n",
       "      <td>18</td>\n",
       "      <td>1</td>\n",
       "      <td>3</td>\n",
       "      <td>0</td>\n",
       "      <td>64</td>\n",
       "      <td>33</td>\n",
       "      <td>46</td>\n",
       "      <td>0.0004</td>\n",
       "      <td>16</td>\n",
       "      <td>1</td>\n",
       "      <td>29</td>\n",
       "      <td>32</td>\n",
       "      <td>1000</td>\n",
       "      <td>888000.0</td>\n",
       "      <td>1970.0000</td>\n",
       "      <td>Pristine</td>\n",
       "    </tr>\n",
       "    <tr>\n",
       "      <th>2</th>\n",
       "      <td>4</td>\n",
       "      <td>0.33</td>\n",
       "      <td>18</td>\n",
       "      <td>22</td>\n",
       "      <td>4</td>\n",
       "      <td>0</td>\n",
       "      <td>95</td>\n",
       "      <td>45</td>\n",
       "      <td>42</td>\n",
       "      <td>0.0004</td>\n",
       "      <td>16</td>\n",
       "      <td>2</td>\n",
       "      <td>29</td>\n",
       "      <td>28</td>\n",
       "      <td>90</td>\n",
       "      <td>4470000.0</td>\n",
       "      <td>41700.0000</td>\n",
       "      <td>Pristine</td>\n",
       "    </tr>\n",
       "    <tr>\n",
       "      <th>3</th>\n",
       "      <td>5</td>\n",
       "      <td>0.33</td>\n",
       "      <td>18</td>\n",
       "      <td>1</td>\n",
       "      <td>1</td>\n",
       "      <td>0</td>\n",
       "      <td>1</td>\n",
       "      <td>31</td>\n",
       "      <td>1000</td>\n",
       "      <td>0.0004</td>\n",
       "      <td>16</td>\n",
       "      <td>1</td>\n",
       "      <td>29</td>\n",
       "      <td>1000</td>\n",
       "      <td>1000</td>\n",
       "      <td>58000.0</td>\n",
       "      <td>206.0000</td>\n",
       "      <td>Pristine</td>\n",
       "    </tr>\n",
       "    <tr>\n",
       "      <th>4</th>\n",
       "      <td>6</td>\n",
       "      <td>0.33</td>\n",
       "      <td>18</td>\n",
       "      <td>2</td>\n",
       "      <td>3</td>\n",
       "      <td>0</td>\n",
       "      <td>96</td>\n",
       "      <td>34</td>\n",
       "      <td>31</td>\n",
       "      <td>0.0004</td>\n",
       "      <td>16</td>\n",
       "      <td>1</td>\n",
       "      <td>29</td>\n",
       "      <td>22</td>\n",
       "      <td>500</td>\n",
       "      <td>933000.0</td>\n",
       "      <td>1840.0000</td>\n",
       "      <td>Pristine</td>\n",
       "    </tr>\n",
       "    <tr>\n",
       "      <th>...</th>\n",
       "      <td>...</td>\n",
       "      <td>...</td>\n",
       "      <td>...</td>\n",
       "      <td>...</td>\n",
       "      <td>...</td>\n",
       "      <td>...</td>\n",
       "      <td>...</td>\n",
       "      <td>...</td>\n",
       "      <td>...</td>\n",
       "      <td>...</td>\n",
       "      <td>...</td>\n",
       "      <td>...</td>\n",
       "      <td>...</td>\n",
       "      <td>...</td>\n",
       "      <td>...</td>\n",
       "      <td>...</td>\n",
       "      <td>...</td>\n",
       "      <td>...</td>\n",
       "    </tr>\n",
       "    <tr>\n",
       "      <th>155</th>\n",
       "      <td>13</td>\n",
       "      <td>0.33</td>\n",
       "      <td>18</td>\n",
       "      <td>13</td>\n",
       "      <td>1</td>\n",
       "      <td>0</td>\n",
       "      <td>13</td>\n",
       "      <td>28</td>\n",
       "      <td>76</td>\n",
       "      <td>0.0004</td>\n",
       "      <td>16</td>\n",
       "      <td>1</td>\n",
       "      <td>29</td>\n",
       "      <td>1000</td>\n",
       "      <td>76</td>\n",
       "      <td>210.0</td>\n",
       "      <td>0.5430</td>\n",
       "      <td>Aged</td>\n",
       "    </tr>\n",
       "    <tr>\n",
       "      <th>156</th>\n",
       "      <td>17</td>\n",
       "      <td>0.33</td>\n",
       "      <td>18</td>\n",
       "      <td>1</td>\n",
       "      <td>2</td>\n",
       "      <td>0</td>\n",
       "      <td>5</td>\n",
       "      <td>35</td>\n",
       "      <td>400</td>\n",
       "      <td>0.0004</td>\n",
       "      <td>16</td>\n",
       "      <td>1</td>\n",
       "      <td>29</td>\n",
       "      <td>251</td>\n",
       "      <td>1000</td>\n",
       "      <td>140.0</td>\n",
       "      <td>0.5840</td>\n",
       "      <td>Aged</td>\n",
       "    </tr>\n",
       "    <tr>\n",
       "      <th>157</th>\n",
       "      <td>23</td>\n",
       "      <td>0.33</td>\n",
       "      <td>18</td>\n",
       "      <td>1</td>\n",
       "      <td>1</td>\n",
       "      <td>0</td>\n",
       "      <td>1</td>\n",
       "      <td>30</td>\n",
       "      <td>1000</td>\n",
       "      <td>0.0004</td>\n",
       "      <td>16</td>\n",
       "      <td>1</td>\n",
       "      <td>29</td>\n",
       "      <td>1000</td>\n",
       "      <td>1000</td>\n",
       "      <td>6.1</td>\n",
       "      <td>0.0196</td>\n",
       "      <td>Aged</td>\n",
       "    </tr>\n",
       "    <tr>\n",
       "      <th>158</th>\n",
       "      <td>25</td>\n",
       "      <td>0.33</td>\n",
       "      <td>18</td>\n",
       "      <td>2</td>\n",
       "      <td>2</td>\n",
       "      <td>0</td>\n",
       "      <td>42</td>\n",
       "      <td>36</td>\n",
       "      <td>47</td>\n",
       "      <td>0.0004</td>\n",
       "      <td>16</td>\n",
       "      <td>1</td>\n",
       "      <td>29</td>\n",
       "      <td>26</td>\n",
       "      <td>500</td>\n",
       "      <td>1250.0</td>\n",
       "      <td>4.8800</td>\n",
       "      <td>Aged</td>\n",
       "    </tr>\n",
       "    <tr>\n",
       "      <th>159</th>\n",
       "      <td>26</td>\n",
       "      <td>0.33</td>\n",
       "      <td>18</td>\n",
       "      <td>14</td>\n",
       "      <td>3</td>\n",
       "      <td>0</td>\n",
       "      <td>56</td>\n",
       "      <td>37</td>\n",
       "      <td>53</td>\n",
       "      <td>0.0004</td>\n",
       "      <td>16</td>\n",
       "      <td>1</td>\n",
       "      <td>29</td>\n",
       "      <td>48</td>\n",
       "      <td>71</td>\n",
       "      <td>1810.0</td>\n",
       "      <td>7.9200</td>\n",
       "      <td>Aged</td>\n",
       "    </tr>\n",
       "  </tbody>\n",
       "</table>\n",
       "<p>160 rows × 18 columns</p>\n",
       "</div>"
      ],
      "text/plain": [
       "     Waveform Number  C-Rate  Transducer Position  Rise Time  Counts to Peak  \\\n",
       "0                  1    0.33                   18         12               7   \n",
       "1                  2    0.33                   18          1               3   \n",
       "2                  4    0.33                   18         22               4   \n",
       "3                  5    0.33                   18          1               1   \n",
       "4                  6    0.33                   18          2               3   \n",
       "..               ...     ...                  ...        ...             ...   \n",
       "155               13    0.33                   18         13               1   \n",
       "156               17    0.33                   18          1               2   \n",
       "157               23    0.33                   18          1               1   \n",
       "158               25    0.33                   18          2               2   \n",
       "159               26    0.33                   18         14               3   \n",
       "\n",
       "     Energy  Duration  Amplitude  Average Frequency     RMS  ASL  PCNTS  \\\n",
       "0         0        73         37                 95  0.0004   16      3   \n",
       "1         0        64         33                 46  0.0004   16      1   \n",
       "2         0        95         45                 42  0.0004   16      2   \n",
       "3         0         1         31               1000  0.0004   16      1   \n",
       "4         0        96         34                 31  0.0004   16      1   \n",
       "..      ...       ...        ...                ...     ...  ...    ...   \n",
       "155       0        13         28                 76  0.0004   16      1   \n",
       "156       0         5         35                400  0.0004   16      1   \n",
       "157       0         1         30               1000  0.0004   16      1   \n",
       "158       0        42         36                 47  0.0004   16      1   \n",
       "159       0        56         37                 53  0.0004   16      1   \n",
       "\n",
       "     Threshold  Reverberation Frequency  Initiation Frequency  \\\n",
       "0           29                       66                   250   \n",
       "1           29                       32                  1000   \n",
       "2           29                       28                    90   \n",
       "3           29                     1000                  1000   \n",
       "4           29                       22                   500   \n",
       "..         ...                      ...                   ...   \n",
       "155         29                     1000                    76   \n",
       "156         29                      251                  1000   \n",
       "157         29                     1000                  1000   \n",
       "158         29                       26                   500   \n",
       "159         29                       48                    71   \n",
       "\n",
       "     Signal Strength  Absolute Energy Classification  \n",
       "0          1060000.0        3560.0000       Pristine  \n",
       "1           888000.0        1970.0000       Pristine  \n",
       "2          4470000.0       41700.0000       Pristine  \n",
       "3            58000.0         206.0000       Pristine  \n",
       "4           933000.0        1840.0000       Pristine  \n",
       "..               ...              ...            ...  \n",
       "155            210.0           0.5430           Aged  \n",
       "156            140.0           0.5840           Aged  \n",
       "157              6.1           0.0196           Aged  \n",
       "158           1250.0           4.8800           Aged  \n",
       "159           1810.0           7.9200           Aged  \n",
       "\n",
       "[160 rows x 18 columns]"
      ]
     },
     "execution_count": 2,
     "metadata": {},
     "output_type": "execute_result"
    }
   ],
   "source": [
    "data"
   ]
  },
  {
   "cell_type": "code",
   "execution_count": 3,
   "id": "a7ca8611",
   "metadata": {},
   "outputs": [],
   "source": [
    "# Extract classification column from data frame\n",
    "classification = data['Classification']"
   ]
  },
  {
   "cell_type": "code",
   "execution_count": 4,
   "id": "4faef6f7",
   "metadata": {},
   "outputs": [],
   "source": [
    "# encode class values as integers\n",
    "from sklearn.preprocessing import LabelEncoder\n",
    "\n",
    "encoder = LabelEncoder()\n",
    "encoder.fit(classification)\n",
    "labels = encoder.transform(classification)"
   ]
  },
  {
   "cell_type": "code",
   "execution_count": 5,
   "id": "db1211c6",
   "metadata": {
    "scrolled": true
   },
   "outputs": [
    {
     "data": {
      "text/plain": [
       "array([1, 1, 1, 1, 1, 1, 1, 1, 1, 1, 1, 1, 1, 1, 1, 1, 1, 1, 1, 1, 1, 1,\n",
       "       1, 1, 1, 1, 1, 1, 1, 1, 1, 1, 1, 1, 1, 1, 1, 1, 1, 1, 1, 1, 1, 1,\n",
       "       1, 1, 1, 1, 1, 1, 1, 1, 1, 1, 1, 1, 1, 1, 1, 1, 1, 1, 1, 1, 1, 1,\n",
       "       1, 1, 1, 1, 1, 1, 1, 1, 1, 1, 1, 1, 1, 1, 1, 1, 1, 1, 1, 1, 1, 1,\n",
       "       1, 1, 1, 1, 1, 1, 1, 1, 1, 1, 1, 1, 1, 0, 0, 0, 0, 0, 0, 0, 0, 0,\n",
       "       0, 0, 0, 0, 0, 0, 0, 0, 0, 0, 0, 0, 0, 0, 0, 0, 0, 0, 0, 0, 0, 0,\n",
       "       0, 0, 0, 0, 0, 0, 0, 0, 0, 0, 0, 0, 0, 0, 0, 0, 0, 0, 0, 0, 0, 0,\n",
       "       0, 0, 0, 0, 0, 0])"
      ]
     },
     "execution_count": 5,
     "metadata": {},
     "output_type": "execute_result"
    }
   ],
   "source": [
    "# 1 is pristine and 0 is aged\n",
    "labels"
   ]
  },
  {
   "cell_type": "code",
   "execution_count": 6,
   "id": "3c1442aa",
   "metadata": {},
   "outputs": [],
   "source": [
    "# get rid of columns we don't need\n",
    "data.drop(['Waveform Number', 'C-Rate', 'Transducer Position', 'Classification'], inplace=True, axis=1)"
   ]
  },
  {
   "cell_type": "code",
   "execution_count": 7,
   "id": "85e65106",
   "metadata": {},
   "outputs": [],
   "source": [
    "# Use StandardScaler to standardize the features to have zero mean and unit variance\n",
    "from sklearn.preprocessing import StandardScaler\n",
    "std_scaler = StandardScaler()\n",
    "scaled_data = std_scaler.fit_transform(data)"
   ]
  },
  {
   "cell_type": "code",
   "execution_count": 8,
   "id": "830b978d",
   "metadata": {},
   "outputs": [],
   "source": [
    "# set aside 20% of train and test data for evaluation\n",
    "from sklearn.model_selection import train_test_split\n",
    "\n",
    "# The shuffle function randomly changes the order of the various rows.\n",
    "# Finally, the random_state initializes the seed for the random function used to split the dataset.\n",
    "# Setting the random state allows the experiment to be easily reproduced and ensures results within the same parameters.\n",
    "X_train, X_test, y_train, y_test = train_test_split(scaled_data, labels,\n",
    "    test_size=0.2, shuffle = True, random_state = 8)"
   ]
  },
  {
   "cell_type": "code",
   "execution_count": 9,
   "id": "f0bbcdf1",
   "metadata": {},
   "outputs": [
    {
     "name": "stderr",
     "output_type": "stream",
     "text": [
      "2023-08-24 15:42:24.310304: I tensorflow/core/platform/cpu_feature_guard.cc:193] This TensorFlow binary is optimized with oneAPI Deep Neural Network Library (oneDNN) to use the following CPU instructions in performance-critical operations:  SSE4.1 SSE4.2 AVX AVX2 FMA\n",
      "To enable them in other operations, rebuild TensorFlow with the appropriate compiler flags.\n",
      "2023-08-24 15:42:30.718057: I tensorflow/core/platform/cpu_feature_guard.cc:193] This TensorFlow binary is optimized with oneAPI Deep Neural Network Library (oneDNN) to use the following CPU instructions in performance-critical operations:  SSE4.1 SSE4.2 AVX AVX2 FMA\n",
      "To enable them in other operations, rebuild TensorFlow with the appropriate compiler flags.\n"
     ]
    }
   ],
   "source": [
    "# create deep learning model\n",
    "import tensorflow as tf\n",
    "from tensorflow.keras.models import Model, Sequential\n",
    "from tensorflow.keras.layers import Dense\n",
    "\n",
    "model = tf.keras.Sequential([\n",
    "    tf.keras.layers.Dense(11, activation='relu', input_shape=(14,)),\n",
    "    tf.keras.layers.Dense(8, activation='relu'),\n",
    "    tf.keras.layers.Dense(5, activation='relu'),\n",
    "    tf.keras.layers.Dense(1, activation='sigmoid')\n",
    "])"
   ]
  },
  {
   "cell_type": "code",
   "execution_count": 10,
   "id": "116b715f",
   "metadata": {},
   "outputs": [],
   "source": [
    "# compile the model\n",
    "model.compile(loss='binary_crossentropy', optimizer='adam', metrics=['accuracy'])"
   ]
  },
  {
   "cell_type": "code",
   "execution_count": 11,
   "id": "99387be4",
   "metadata": {},
   "outputs": [],
   "source": [
    "# Train the classifier\n",
    "from keras.callbacks import EarlyStopping\n",
    "\n",
    "early_stopping3 = EarlyStopping(monitor='val_loss', patience=150)\n",
    "model_history = model.fit(X_train, y_train, epochs=1000, batch_size=32, verbose=0,validation_split=0.2, callbacks=[early_stopping3])"
   ]
  },
  {
   "cell_type": "code",
   "execution_count": 12,
   "id": "b675bb50",
   "metadata": {},
   "outputs": [
    {
     "name": "stdout",
     "output_type": "stream",
     "text": [
      "First ten values of validation loss:[0.6666600108146667, 0.6653416752815247, 0.6645642518997192, 0.6643286347389221, 0.6641795635223389, 0.6637982130050659, 0.6631972193717957, 0.6628655195236206, 0.6625941395759583, 0.6624768376350403]\n",
      "\n",
      "Last ten values of validation loss:[0.12850600481033325, 0.12578967213630676, 0.12071563303470612, 0.12341904640197754, 0.13138167560100555, 0.1360502541065216, 0.1316898912191391, 0.12661495804786682, 0.12288706749677658, 0.12049739062786102]\n"
     ]
    }
   ],
   "source": [
    "# Validation loss over time\n",
    "print('First ten values of validation loss:' + str(model_history.history['val_loss'][:10])+'\\n')\n",
    "print('Last ten values of validation loss:' + str(model_history.history['val_loss'][-10:]))"
   ]
  },
  {
   "cell_type": "code",
   "execution_count": 13,
   "id": "d243ad3f",
   "metadata": {},
   "outputs": [
    {
     "data": {
      "image/png": "[encoded data removed]",
      "text/plain": [
       "<Figure size 640x480 with 1 Axes>"
      ]
     },
     "metadata": {},
     "output_type": "display_data"
    }
   ],
   "source": [
    "# Plot the loss vs. epochs of training\n",
    "import matplotlib.pyplot as plt\n",
    "\n",
    "epochs = range(len(model_history.history['val_loss']))\n",
    "\n",
    "fig, ax = plt.subplots()\n",
    "plt.plot(epochs, model_history.history[\"loss\"], 'b', label='Training Loss')\n",
    "plt.plot(epochs, model_history.history[\"val_loss\"], 'r', label='Validation Loss')\n",
    "plt.title(\"Loss vs. Epoch\", fontsize=16)\n",
    "plt.ylabel(\"Loss\", fontsize=14)\n",
    "plt.xlabel(\"Epoch\", fontsize=14)\n",
    "plt.grid(True)\n",
    "plt.legend(fontsize=14)\n",
    "\n",
    "# Increase font size for tick labels\n",
    "ax.tick_params(axis='both', which='major', labelsize=14)\n",
    "\n",
    "plt.show()"
   ]
  },
  {
   "cell_type": "code",
   "execution_count": 14,
   "id": "3dc0f0de",
   "metadata": {},
   "outputs": [],
   "source": [
    "# plt.savefig(\"/Users/seungbinjoo/Desktop/loss_vs_epoch_plot.png\", dpi=500)  # You can change the format and resolution as needed"
   ]
  },
  {
   "cell_type": "code",
   "execution_count": 15,
   "id": "9018ba5b",
   "metadata": {},
   "outputs": [],
   "source": [
    "plt.close()"
   ]
  },
  {
   "cell_type": "markdown",
   "id": "b61a269a",
   "metadata": {},
   "source": [
    "It may take multiple tries for the neural network to train properly. I aim to get the validation loss to converge down as close as possible to the training loss and I also aim to have around a 1000 epochs of training. From trial and error: a good training should have the training loss down to 0.1 and validation loss at around 0.2."
   ]
  },
  {
   "cell_type": "code",
   "execution_count": 16,
   "id": "8b8c2066",
   "metadata": {
    "scrolled": true
   },
   "outputs": [
    {
     "name": "stdout",
     "output_type": "stream",
     "text": [
      "1/1 - 0s - loss: 0.0836 - accuracy: 0.9375 - 25ms/epoch - 25ms/step\n",
      "\n",
      "Test accuracy: 0.9375\n"
     ]
    }
   ],
   "source": [
    "test_loss, test_acc = model.evaluate(X_test, y_test, verbose=2)\n",
    "\n",
    "print('\\nTest accuracy:', test_acc)"
   ]
  },
  {
   "cell_type": "code",
   "execution_count": 17,
   "id": "e373fdee",
   "metadata": {},
   "outputs": [
    {
     "name": "stdout",
     "output_type": "stream",
     "text": [
      "1/1 [==============================] - 0s 186ms/step\n"
     ]
    }
   ],
   "source": [
    "# Make predictions with test data\n",
    "predictions = model.predict(X_test)"
   ]
  },
  {
   "cell_type": "code",
   "execution_count": 18,
   "id": "749e8903",
   "metadata": {},
   "outputs": [
    {
     "data": {
      "text/plain": [
       "array([[1.],\n",
       "       [1.],\n",
       "       [1.],\n",
       "       [1.],\n",
       "       [1.],\n",
       "       [0.],\n",
       "       [1.],\n",
       "       [0.],\n",
       "       [1.],\n",
       "       [1.],\n",
       "       [1.],\n",
       "       [0.],\n",
       "       [0.],\n",
       "       [1.],\n",
       "       [1.],\n",
       "       [1.],\n",
       "       [1.],\n",
       "       [0.],\n",
       "       [1.],\n",
       "       [0.],\n",
       "       [0.],\n",
       "       [0.],\n",
       "       [1.],\n",
       "       [0.],\n",
       "       [1.],\n",
       "       [1.],\n",
       "       [1.],\n",
       "       [0.],\n",
       "       [1.],\n",
       "       [0.],\n",
       "       [1.],\n",
       "       [0.]], dtype=float32)"
      ]
     },
     "execution_count": 18,
     "metadata": {},
     "output_type": "execute_result"
    }
   ],
   "source": [
    "# The trained model's prediction on the test dataset\n",
    "np.around(predictions)"
   ]
  },
  {
   "cell_type": "code",
   "execution_count": 19,
   "id": "03831c4d",
   "metadata": {},
   "outputs": [
    {
     "data": {
      "text/plain": [
       "array([1, 1, 1, 1, 1, 0, 1, 0, 1, 1, 1, 0, 0, 1, 1, 1, 1, 0, 1, 0, 0, 1,\n",
       "       1, 0, 1, 1, 1, 0, 1, 0, 1, 1])"
      ]
     },
     "execution_count": 19,
     "metadata": {},
     "output_type": "execute_result"
    }
   ],
   "source": [
    "# The actual labels of the test dataset\n",
    "y_test"
   ]
  },
  {
   "cell_type": "code",
   "execution_count": 20,
   "id": "deec32fb",
   "metadata": {},
   "outputs": [],
   "source": [
    "# Make confusion matrix\n",
    "confusion_matrix = tf.math.confusion_matrix(\n",
    "    y_test,\n",
    "    np.around(predictions),\n",
    "    num_classes=None,\n",
    "    weights=None,\n",
    "    dtype=tf.dtypes.int32,\n",
    "    name=None\n",
    ")"
   ]
  },
  {
   "cell_type": "code",
   "execution_count": 21,
   "id": "fcd36cd1",
   "metadata": {
    "scrolled": true
   },
   "outputs": [
    {
     "data": {
      "image/png": "[encoded data removed]",
      "text/plain": [
       "<Figure size 640x480 with 2 Axes>"
      ]
     },
     "metadata": {},
     "output_type": "display_data"
    }
   ],
   "source": [
    "# Plot the confusion matrix using a heatmap\n",
    "import seaborn as sns\n",
    "\n",
    "heatmap = sns.heatmap(confusion_matrix, annot=True, cmap='Blues', annot_kws={'fontsize': 30})\n",
    "plt.xlabel('Predicted Labels',fontsize=20)\n",
    "plt.ylabel('True Labels',fontsize=20)\n",
    "\n",
    "# Increase font size of tick labels on x-axis\n",
    "plt.xticks(fontsize=20)\n",
    "\n",
    "# Increase font size of tick labels on y-axis\n",
    "plt.yticks(fontsize=20)\n",
    "\n",
    "colorbar = heatmap.collections[0].colorbar  # Get the colorbar object\n",
    "colorbar.ax.tick_params(labelsize=16)  # Increase font size of colorbar ticks\n",
    "\n",
    "plt.tight_layout()  # Helps in ensuring all elements of the plot are visible\n",
    "\n",
    "plt.show()"
   ]
  },
  {
   "cell_type": "code",
   "execution_count": 22,
   "id": "1bfc184d",
   "metadata": {},
   "outputs": [
    {
     "data": {
      "text/plain": [
       "<Figure size 640x480 with 0 Axes>"
      ]
     },
     "metadata": {},
     "output_type": "display_data"
    }
   ],
   "source": [
    "# plt.savefig(\"/Users/seungbinjoo/Desktop/SoH_confusion_matrix.png\", dpi=500)  # You can change the format and resolution as needed"
   ]
  },
  {
   "cell_type": "code",
   "execution_count": 23,
   "id": "a5cfbee3",
   "metadata": {},
   "outputs": [],
   "source": [
    "plt.close()"
   ]
  },
  {
   "cell_type": "markdown",
   "id": "b0c6f5c4",
   "metadata": {},
   "source": [
    "Recall: 0 is aged and 1 is pristine."
   ]
  },
  {
   "cell_type": "markdown",
   "id": "6c9bbe1d",
   "metadata": {},
   "source": [
    "Note: neural network sometimes fails to train properly. I found that the model performs the best when we reach training epochs on the order of 400 to 1000. Sometimes, the early stopping mechanism stops the training early and the validation loss fails to decrease signficantly. In that case, we need to retrain the network. This behaviour likely can be improved with a larger dataset."
   ]
  },
  {
   "cell_type": "markdown",
   "id": "6db8ebdf",
   "metadata": {},
   "source": [
    "Although our model's accuracy seems to be very good, this does not necessarily mean that our model is distinguishing between a pristine and aged cell. There may be experimental bias in the sense that we are testing on two different physical cells so the model may be picking up features that are inherently different between the two different cells which are not necessarily associated with a cell's age. To eliminate this possibility of experimental bias, we should do the same tests on different pristine cells and different aged cells. We cannot be 100% sure that we have eliminated experimental bias however, for every cell and every C-rate run for each cell, we varied the transducer position. The fact that our dataset has taken into account different transduce positions means that the model may be less sensitive to small experimental biases such as surface conditions, effectiveness of couplant application, temperature, etc."
   ]
  },
  {
   "cell_type": "markdown",
   "id": "f0a53437",
   "metadata": {},
   "source": [
    "To make an argument for the model that it is not just picking up experimental biases, we can test the model on another unseen dataset from a completely different P42A. This dataset is yet to be obtained:"
   ]
  },
  {
   "cell_type": "code",
   "execution_count": 24,
   "id": "374ab48e",
   "metadata": {},
   "outputs": [],
   "source": [
    "# extra_test_data = pd.read_csv('/Users/seungbinjoo/Desktop/UCL FUSE Internship/Work/5 Experiments/Cylindrical Cell AE Matrix Experiment/Machine Learning Files/Week 1 and 2 Preliminary Data ML Files/Week 1 and 2 experiment middle position Cby3 data v2.csv', delimiter =',')"
   ]
  },
  {
   "cell_type": "code",
   "execution_count": 25,
   "id": "e41a2ac8",
   "metadata": {},
   "outputs": [],
   "source": [
    "# extra_test_data"
   ]
  },
  {
   "cell_type": "code",
   "execution_count": 26,
   "id": "a86701a2",
   "metadata": {},
   "outputs": [],
   "source": [
    "# encode class values as integers\n",
    "# from sklearn.preprocessing import LabelEncoder\n",
    "\n",
    "# classification2 = extra_test_data['Classification']\n",
    "\n",
    "# extra_test_data.drop(['Waveform Number', 'C-Rate', 'Transducer Position', 'Classification'], inplace=True, axis=1)\n",
    "# X_test_2 = extra_test_data\n",
    "\n",
    "# encoder = LabelEncoder()\n",
    "# encoder.fit(classification2)\n",
    "# labels2 = encoder.transform(classification2)\n",
    "\n",
    "# std_scaler = StandardScaler()\n",
    "# scaled_X_test_2 = std_scaler.fit_transform(X_test_2)\n",
    "\n",
    "# predictions2 = model.predict(scaled_X_test_2)\n",
    "\n",
    "# confusion_matrix2 = tf.math.confusion_matrix(\n",
    "#     labels2,\n",
    "#     np.around(predictions2),\n",
    "#     num_classes=None,\n",
    "#     weights=None,\n",
    "#     dtype=tf.dtypes.int32,\n",
    "#     name=None\n",
    "# )\n",
    "\n",
    "# sns.heatmap(confusion_matrix2, annot=True, cmap='Blues')\n",
    "# plt.xlabel('Predicted Labels')\n",
    "# plt.ylabel('True Labels')\n",
    "# plt.show()"
   ]
  },
  {
   "cell_type": "code",
   "execution_count": 27,
   "id": "d31cdda0",
   "metadata": {},
   "outputs": [],
   "source": [
    "# plt.close()"
   ]
  },
  {
   "cell_type": "code",
   "execution_count": 28,
   "id": "f1014a1a",
   "metadata": {},
   "outputs": [],
   "source": [
    "# test_loss, test_acc = model.evaluate(scaled_X_test_2, labels2, verbose=2)\n",
    "\n",
    "# print('\\nTest accuracy:', test_acc)"
   ]
  },
  {
   "cell_type": "markdown",
   "id": "287cab45",
   "metadata": {},
   "source": [
    "### 1.2. Classification of Aged vs. Pristine Cell Signals using Logistic Regression"
   ]
  },
  {
   "cell_type": "markdown",
   "id": "5174c9ef",
   "metadata": {},
   "source": [
    "Future work"
   ]
  },
  {
   "cell_type": "markdown",
   "id": "e1dc31a1",
   "metadata": {},
   "source": [
    "### 1.3. Classification of Aged vs. Pristine Cell Signals using Support Vector Machine"
   ]
  },
  {
   "cell_type": "markdown",
   "id": "8f32ced7",
   "metadata": {},
   "source": [
    "Future work"
   ]
  },
  {
   "cell_type": "markdown",
   "id": "762feee4",
   "metadata": {},
   "source": [
    "## 2. Classification of 1C vs. C/3 Cycling Signals"
   ]
  },
  {
   "cell_type": "markdown",
   "id": "b4ceef44",
   "metadata": {},
   "source": [
    "Future work"
   ]
  }
 ],
 "metadata": {
  "kernelspec": {
   "display_name": "Python 3 (ipykernel)",
   "language": "python",
   "name": "python3"
  },
  "language_info": {
   "codemirror_mode": {
    "name": "ipython",
    "version": 3
   },
   "file_extension": ".py",
   "mimetype": "text/x-python",
   "name": "python",
   "nbconvert_exporter": "python",
   "pygments_lexer": "ipython3",
   "version": "3.9.17"
  }
 },
 "nbformat": 4,
 "nbformat_minor": 5
}
